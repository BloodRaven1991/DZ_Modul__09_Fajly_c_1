{
 "cells": [
  {
   "cell_type": "markdown",
   "metadata": {},
   "source": [
    "Задание 1\n",
    "Дано два текстовых файла. Выяснить, совпадают ли\n",
    "их строки. Если нет, то вывести несовпадающую строку\n",
    "из каждого файла."
   ]
  },
  {
   "cell_type": "code",
   "execution_count": 1,
   "metadata": {},
   "outputs": [
    {
     "name": "stdout",
     "output_type": "stream",
     "text": [
      "Несовпадающая строка из файла 1 (строка 1): 'Знаешь, ни разу мне не было так хорошо,'\n",
      "Несовпадающая строка из файла 2 (строка 1): 'Снег этот, милостью Божьей -летит и летит,'\n",
      "Несовпадающая строка из файла 1 (строка 2): 'Это мой бзик, но душа моя словно в раю,'\n",
      "Несовпадающая строка из файла 2 (строка 2): 'Знаешь что, я без него бы наверное сдох,'\n",
      "Несовпадающая строка из файла 1 (строка 3): 'Я тебя в осени ржавой случайно нашёл,'\n",
      "Несовпадающая строка из файла 2 (строка 3): 'И хорошо нам с тобою всему вопреки,'\n",
      "Несовпадающая строка из файла 1 (строка 4): 'Ты белым снегом упала на осень мою.'\n",
      "Несовпадающая строка из файла 2 (строка 4): 'Не задавая вопросов: \"Зачем и за что\"?'\n",
      "Несовпадающая строка из файла 1 (строка 5): 'Снег этот, милостью Божьей -летит и летит,'\n",
      "Несовпадающая строка из файла 2 (строка 5): 'Просто сидеть, и молчать, и молчать ни о чём,'\n",
      "Несовпадающая строка из файла 1 (строка 6): 'Знаешь что, я без него бы наверное сдох,'\n",
      "Несовпадающая строка из файла 2 (строка 6): 'Просто друг друга тихонько, касаться плечом,'\n",
      "Несовпадающая строка из файла 1 (строка 7): 'И хорошо нам с тобою всему вопреки,'\n",
      "Несовпадающая строка из файла 2 (строка 7): 'Просто однажды открыть это небо ключом,'\n",
      "Несовпадающая строка из файла 1 (строка 8): 'Не задавая вопросов: \"Зачем и за что\"?'\n",
      "Несовпадающая строка из файла 2 (строка 8): 'Не понимая, что мы тут уже не причём.'\n"
     ]
    }
   ],
   "source": [
    "def compare_files(file1, file2):\n",
    "    with open(file1, 'r', encoding='utf-8') as f1, open(file2, 'r', encoding='utf-8') as f2:\n",
    "        lines1 = f1.readlines()\n",
    "        lines2 = f2.readlines()\n",
    "\n",
    "    max_lines = max(len(lines1), len(lines2))\n",
    "  \n",
    "    for i in range(max_lines):\n",
    "        line1 = lines1[i].strip() if i < len(lines1) else None\n",
    "        line2 = lines2[i].strip() if i < len(lines2) else None\n",
    "\n",
    "        if line1 != line2:\n",
    "            print(f\"Несовпадающая строка из файла 1 (строка {i + 1}): '{line1}'\")\n",
    "            print(f\"Несовпадающая строка из файла 2 (строка {i + 1}): '{line2}'\")\n",
    "\n",
    "file1_name = 'file1.txt'\n",
    "file2_name = 'file2.txt'\n",
    "\n",
    "compare_files(file1_name, file2_name)"
   ]
  },
  {
   "cell_type": "markdown",
   "metadata": {},
   "source": [
    "Задание 2\n",
    "Дан текстовый файл. Необходимо создать новый файл\n",
    "и записать в него следующую статистику по исходному\n",
    "файлу:\n",
    "■ Количество символов;\n",
    "■ Количество строк;\n",
    "■ Количество гласных букв;\n",
    "■ Количество согласных букв;\n",
    "■ Количество цифр."
   ]
  },
  {
   "cell_type": "code",
   "execution_count": 3,
   "metadata": {},
   "outputs": [],
   "source": [
    "def analyze_file(input_file, output_file):\n",
    "    vowels = set(\"aeiouAEIOU\")\n",
    "    consonants = set(\"bcdfghjklmnpqrstvwxyzBCDFGHJKLMNPQRSTVWXYZ\")\n",
    "    digit_count = 0\n",
    "    vowel_count = 0\n",
    "    consonant_count = 0\n",
    "    line_count = 0\n",
    "    char_count = 0\n",
    "\n",
    "    with open(input_file, 'r', encoding='utf-8') as f:\n",
    "        for line in f:\n",
    "            line_count += 1\n",
    "            char_count += len(line)\n",
    "\n",
    "            for char in line:\n",
    "                if char.isdigit():\n",
    "                    digit_count += 1\n",
    "                elif char in vowels:\n",
    "                    vowel_count += 1\n",
    "                elif char in consonants:\n",
    "                    consonant_count += 1\n",
    "\n",
    "    with open(output_file, 'w', encoding='utf-8') as f:\n",
    "        f.write(f\"Количество символов: {char_count}\\n\")\n",
    "        f.write(f\"Количество строк: {line_count}\\n\")\n",
    "        f.write(f\"Количество гласных букв: {vowel_count}\\n\")\n",
    "        f.write(f\"Количество согласных букв: {consonant_count}\\n\")\n",
    "        f.write(f\"Количество цифр: {digit_count}\\n\")\n",
    "\n",
    "input_file_name = 'input.txt'\n",
    "output_file_name = 'output_statistics.txt'\n",
    "\n",
    "analyze_file(input_file_name, output_file_name)"
   ]
  },
  {
   "cell_type": "markdown",
   "metadata": {},
   "source": [
    "Задание 3\n",
    "Дан текстовый файл. Удалить из него последнюю\n",
    "строку. Результат записать в другой файл.\n"
   ]
  },
  {
   "cell_type": "code",
   "execution_count": 4,
   "metadata": {},
   "outputs": [],
   "source": [
    "def remove_last_line(input_file, output_file):\n",
    "    with open(input_file, 'r', encoding='utf-8') as f:\n",
    "        lines = f.readlines()\n",
    "    \n",
    "    if lines:\n",
    "        lines = lines[:-1]\n",
    "\n",
    "    with open(output_file, 'w', encoding='utf-8') as f:\n",
    "        f.writelines(lines)\n",
    "\n",
    "input_file_name = 'input.txt'\n",
    "output_file_name = 'output_without_last_line.txt'\n",
    "\n",
    "remove_last_line(input_file_name, output_file_name)"
   ]
  },
  {
   "cell_type": "markdown",
   "metadata": {},
   "source": [
    "Задание 4\n",
    "Дан текстовый файл. Найти длину самой длинной\n",
    "строки."
   ]
  },
  {
   "cell_type": "code",
   "execution_count": null,
   "metadata": {},
   "outputs": [],
   "source": [
    "def find_longest_line_length(input_file):\n",
    "    longest_length = 0\n",
    "\n",
    "    with open(input_file, 'r', encoding='utf-8') as f:\n",
    "        for line in f:\n",
    "            line_length = len(line.rstrip('\\n'))\n",
    "            if line_length > longest_length:\n",
    "                longest_length = line_length\n",
    "\n",
    "    return longest_length\n",
    "\n",
    "input_file_name = 'input.txt'\n",
    "\n",
    "longest_line_length = find_longest_line_length(input_file_name)\n",
    "\n",
    "print(f\"Длина самой длинной строки: {longest_line_length}\")"
   ]
  },
  {
   "cell_type": "markdown",
   "metadata": {},
   "source": [
    "Задание 5\n",
    "Дан текстовый файл. Посчитать сколько раз в нем\n",
    "встречается заданное пользователем слово."
   ]
  },
  {
   "cell_type": "code",
   "execution_count": 5,
   "metadata": {},
   "outputs": [
    {
     "name": "stdout",
     "output_type": "stream",
     "text": [
      "Слово 'рыба' встречается 0 раз(а) в файле.\n"
     ]
    }
   ],
   "source": [
    "def count_word_occurrences(input_file, word):\n",
    "    count = 0\n",
    "\n",
    "    with open(input_file, 'r', encoding='utf-8') as f:\n",
    "        for line in f:\n",
    "            count += line.lower().count(word.lower())\n",
    "\n",
    "    return count\n",
    "\n",
    "input_file_name = 'input.txt'\n",
    "search_word = input(\"Введите слово для поиска: \")\n",
    "\n",
    "occurrences = count_word_occurrences(input_file_name, search_word)\n",
    "\n",
    "print(f\"Слово '{search_word}' встречается {occurrences} раз(а) в файле.\")"
   ]
  },
  {
   "cell_type": "markdown",
   "metadata": {},
   "source": [
    "Задание 6\n",
    "Дан текстовый файл. Найти и заменить в нем заданное слово. Что искать и на что заменять определяется\n",
    "пользователем."
   ]
  },
  {
   "cell_type": "code",
   "execution_count": 6,
   "metadata": {},
   "outputs": [
    {
     "name": "stdout",
     "output_type": "stream",
     "text": [
      "Слово 'хорошо' заменено на 'классно' в файле 'input.txt'.\n"
     ]
    }
   ],
   "source": [
    "def replace_word_in_file(input_file, old_word, new_word):\n",
    "    with open(input_file, 'r', encoding='utf-8') as f:\n",
    "        content = f.read()\n",
    "\n",
    "    new_content = content.replace(old_word, new_word)\n",
    "\n",
    "    with open(input_file, 'w', encoding='utf-8') as f:\n",
    "        f.write(new_content)\n",
    "\n",
    "input_file_name = 'input.txt'\n",
    "\n",
    "old_word = input(\"Введите слово для замены: \")\n",
    "new_word = input(\"Введите новое слово: \")\n",
    "\n",
    "replace_word_in_file(input_file_name, old_word, new_word)\n",
    "\n",
    "print(f\"Слово '{old_word}' заменено на '{new_word}' в файле '{input_file_name}'.\")"
   ]
  },
  {
   "cell_type": "code",
   "execution_count": null,
   "metadata": {},
   "outputs": [],
   "source": []
  }
 ],
 "metadata": {
  "kernelspec": {
   "display_name": "Python 3",
   "language": "python",
   "name": "python3"
  },
  "language_info": {
   "codemirror_mode": {
    "name": "ipython",
    "version": 3
   },
   "file_extension": ".py",
   "mimetype": "text/x-python",
   "name": "python",
   "nbconvert_exporter": "python",
   "pygments_lexer": "ipython3",
   "version": "3.12.7"
  }
 },
 "nbformat": 4,
 "nbformat_minor": 2
}
